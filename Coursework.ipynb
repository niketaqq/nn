{
 "cells": [
  {
   "cell_type": "code",
   "execution_count": 1,
   "metadata": {},
   "outputs": [],
   "source": [
    "import os\n",
    "import cv2\n",
    "import imghdr\n",
    "import numpy as np\n",
    "import pathlib\n",
    "from tensorflow import keras\n",
    "from keras.models import Sequential\n",
    "from keras import optimizers\n",
    "from keras.layers import Convolution2D, MaxPooling2D, Dropout, Flatten, Dense, Reshape, LSTM, BatchNormalization\n",
    "from keras.optimizers import SGD, RMSprop, Adam\n",
    "from keras import backend as K\n",
    "from keras.constraints import maxnorm\n",
    "import tensorflow as tf\n",
    "from scipy import io as spio\n",
    "import idx2numpy  # sudo pip3 install idx2numpy\n",
    "from matplotlib import pyplot as plt\n",
    "from typing import *\n",
    "import time"
   ]
  },
  {
   "cell_type": "code",
   "execution_count": 2,
   "metadata": {},
   "outputs": [],
   "source": [
    "from tensorflow.compat.v1.keras.backend import get_session"
   ]
  },
  {
   "cell_type": "code",
   "execution_count": 3,
   "metadata": {},
   "outputs": [],
   "source": [
    "def letters_extract(image_file: str, out_size=28) -> List[Any]:\n",
    "    img = cv2.imread(image_file)\n",
    "    gray = cv2.cvtColor(img, cv2.COLOR_BGR2GRAY)\n",
    "    ret, thresh = cv2.threshold(gray, 0, 255, cv2.THRESH_BINARY)\n",
    "    img_erode = cv2.erode(thresh, np.ones((3, 3), np.uint8), iterations=1)\n",
    "    contours, hierarchy = cv2.findContours(img_erode, cv2.RETR_TREE, cv2.CHAIN_APPROX_NONE)\n",
    "\n",
    "    output = img.copy()\n",
    "    letters = []\n",
    "    for idx, contour in enumerate(contours):\n",
    "        (x, y, w, h) = cv2.boundingRect(contour)\n",
    "        if hierarchy[0][idx][3] == 0:\n",
    "            cv2.rectangle(output, (x, y), (x + w, y + h), (70, 0, 0), 1)\n",
    "            letter_crop = gray[y:y + h, x:x + w]\n",
    "            size_max = max(w, h)\n",
    "            letter_square = 255 * np.ones(shape=[size_max, size_max], dtype=np.uint8)\n",
    "            if w > h:\n",
    "                y_pos = size_max//2 - h//2\n",
    "                letter_square[y_pos:y_pos + h, 0:w] = letter_crop\n",
    "            elif w < h:\n",
    "                x_pos = size_max//2 - w//2\n",
    "                letter_square[0:h, x_pos:x_pos + w] = letter_crop\n",
    "            else:\n",
    "                letter_square = letter_crop\n",
    "\n",
    "            letters.append((x, w, cv2.resize(letter_square, (out_size, out_size), interpolation=cv2.INTER_AREA)))\n",
    "            \n",
    "    letters.sort(key=lambda x: x[0], reverse=False)\n",
    "\n",
    "    return letters"
   ]
  },
  {
   "cell_type": "code",
   "execution_count": 4,
   "metadata": {},
   "outputs": [],
   "source": [
    "letters = letters_extract(image_file)"
   ]
  },
  {
   "cell_type": "code",
   "execution_count": 5,
   "metadata": {},
   "outputs": [],
   "source": [
    "def emnist_model():\n",
    "    model = Sequential()\n",
    "    model.add(Convolution2D(filters=32, kernel_size=(3, 3), padding='valid', input_shape=(28, 28, 1), activation='relu'))\n",
    "    model.add(Convolution2D(filters=64, kernel_size=(3, 3), activation='relu'))\n",
    "    model.add(MaxPooling2D(pool_size=(2, 2)))\n",
    "    model.add(Dropout(0.25))\n",
    "    model.add(Flatten())\n",
    "    model.add(Dense(512, activation='relu'))\n",
    "    model.add(Dropout(0.5))\n",
    "    model.add(Dense(len(emnist_labels), activation='softmax'))\n",
    "    model.compile(loss='categorical_crossentropy', optimizer='adadelta', metrics=['accuracy'])\n",
    "    return model"
   ]
  },
  {
   "cell_type": "code",
   "execution_count": 6,
   "metadata": {},
   "outputs": [],
   "source": [
    "emnist_labels = [48, 49, 50, 51, 52, 53, 54, 55, 56, 57, 65, 66, 67, 68, 69, 70, 71, 72, 73, 74, 75, 76, 77, 78, 79, 80, 81, 82, 83, 84, 85, 86, 87, 88, 89, 90, 97, 98, 99, 100, 101, 102, 103, 104, 105, 106, 107, 108, 109, 110, 111, 112, 113, 114, 115, 116, 117, 118, 119, 120, 121, 122]\n",
    "\n",
    "emnist_path = 'C:/Users/niketaqq/emnist/'\n",
    "X_train = idx2numpy.convert_from_file(emnist_path + 'emnist-byclass-train-images-idx3-ubyte')\n",
    "y_train = idx2numpy.convert_from_file(emnist_path + 'emnist-byclass-train-labels-idx1-ubyte')\n",
    "\n",
    "X_test = idx2numpy.convert_from_file(emnist_path + 'emnist-byclass-test-images-idx3-ubyte')\n",
    "y_test = idx2numpy.convert_from_file(emnist_path + 'emnist-byclass-test-labels-idx1-ubyte')\n",
    "\n",
    "X_train = np.reshape(X_train, (X_train.shape[0], 28, 28, 1))\n",
    "X_test = np.reshape(X_test, (X_test.shape[0], 28, 28, 1))\n",
    "\n",
    "k = 3\n",
    "X_train = X_train[:X_train.shape[0] // k]\n",
    "y_train = y_train[:y_train.shape[0] // k]\n",
    "X_test = X_test[:X_test.shape[0] // k]\n",
    "y_test = y_test[:y_test.shape[0] // k]\n",
    "\n",
    "X_train = X_train.astype(np.float32)\n",
    "X_train /= 255.0\n",
    "X_test = X_test.astype(np.float32)\n",
    "X_test /= 255.0\n",
    "\n",
    "x_train_cat = keras.utils.to_categorical(y_train, len(emnist_labels))\n",
    "y_test_cat = keras.utils.to_categorical(y_test, len(emnist_labels))"
   ]
  },
  {
   "cell_type": "code",
   "execution_count": 7,
   "metadata": {},
   "outputs": [],
   "source": [
    "model2 = emnist_model()"
   ]
  },
  {
   "cell_type": "code",
   "execution_count": 8,
   "metadata": {},
   "outputs": [
    {
     "name": "stdout",
     "output_type": "stream",
     "text": [
      "Train on 232644 samples, validate on 38774 samples\n",
      "Epoch 1/30\n",
      "232644/232644 [==============================] - ETA: 0s - loss: 3.7728 - accuracy: 0.1373WARNING:tensorflow:Reduce LR on plateau conditioned on metric `val_acc` which is not available. Available metrics are: loss,accuracy,val_loss,val_accuracy,lr\n",
      "232644/232644 [==============================] - 344s 1ms/sample - loss: 3.7728 - accuracy: 0.1373 - val_loss: 3.2505 - val_accuracy: 0.3975\n",
      "Epoch 2/30\n",
      "232640/232644 [============================>.] - ETA: 0s - loss: 2.9870 - accuracy: 0.3348WARNING:tensorflow:Reduce LR on plateau conditioned on metric `val_acc` which is not available. Available metrics are: loss,accuracy,val_loss,val_accuracy,lr\n",
      "232644/232644 [==============================] - 343s 1ms/sample - loss: 2.9870 - accuracy: 0.3348 - val_loss: 2.4303 - val_accuracy: 0.4728\n",
      "Epoch 3/30\n",
      "232640/232644 [============================>.] - ETA: 0s - loss: 2.4163 - accuracy: 0.4350 ETA: 1s - loss:WARNING:tensorflow:Reduce LR on plateau conditioned on metric `val_acc` which is not available. Available metrics are: loss,accuracy,val_loss,val_accuracy,lr\n",
      "232644/232644 [==============================] - 361s 2ms/sample - loss: 2.4163 - accuracy: 0.4350 - val_loss: 1.9617 - val_accuracy: 0.5401\n",
      "Epoch 4/30\n",
      "232640/232644 [============================>.] - ETA: 0s - loss: 2.1131 - accuracy: 0.4871WARNING:tensorflow:Reduce LR on plateau conditioned on metric `val_acc` which is not available. Available metrics are: loss,accuracy,val_loss,val_accuracy,lr\n",
      "232644/232644 [==============================] - 345s 1ms/sample - loss: 2.1131 - accuracy: 0.4871 - val_loss: 1.7173 - val_accuracy: 0.5806\n",
      "Epoch 5/30\n",
      "232640/232644 [============================>.] - ETA: 0s - loss: 1.9355 - accuracy: 0.5171WARNING:tensorflow:Reduce LR on plateau conditioned on metric `val_acc` which is not available. Available metrics are: loss,accuracy,val_loss,val_accuracy,lr\n",
      "232644/232644 [==============================] - 339s 1ms/sample - loss: 1.9355 - accuracy: 0.5171 - val_loss: 1.5676 - val_accuracy: 0.6047\n",
      "Epoch 6/30\n",
      "232640/232644 [============================>.] - ETA: 0s - loss: 1.8142 - accuracy: 0.5399WARNING:tensorflow:Reduce LR on plateau conditioned on metric `val_acc` which is not available. Available metrics are: loss,accuracy,val_loss,val_accuracy,lr\n",
      "232644/232644 [==============================] - 334s 1ms/sample - loss: 1.8142 - accuracy: 0.5399 - val_loss: 1.4633 - val_accuracy: 0.6221\n",
      "Epoch 7/30\n",
      "232640/232644 [============================>.] - ETA: 0s - loss: 1.7270 - accuracy: 0.5550WARNING:tensorflow:Reduce LR on plateau conditioned on metric `val_acc` which is not available. Available metrics are: loss,accuracy,val_loss,val_accuracy,lr\n",
      "232644/232644 [==============================] - 337s 1ms/sample - loss: 1.7270 - accuracy: 0.5550 - val_loss: 1.3855 - val_accuracy: 0.6372\n",
      "Epoch 8/30\n",
      "232640/232644 [============================>.] - ETA: 0s - loss: 1.6569 - accuracy: 0.5692WARNING:tensorflow:Reduce LR on plateau conditioned on metric `val_acc` which is not available. Available metrics are: loss,accuracy,val_loss,val_accuracy,lr\n",
      "232644/232644 [==============================] - 342s 1ms/sample - loss: 1.6570 - accuracy: 0.5692 - val_loss: 1.3234 - val_accuracy: 0.6492\n",
      "Epoch 9/30\n",
      "232640/232644 [============================>.] - ETA: 0s - loss: 1.6029 - accuracy: 0.5794WARNING:tensorflow:Reduce LR on plateau conditioned on metric `val_acc` which is not available. Available metrics are: loss,accuracy,val_loss,val_accuracy,lr\n",
      "232644/232644 [==============================] - 334s 1ms/sample - loss: 1.6029 - accuracy: 0.5794 - val_loss: 1.2722 - val_accuracy: 0.6593\n",
      "Epoch 10/30\n",
      "232640/232644 [============================>.] - ETA: 0s - loss: 1.5524 - accuracy: 0.5891WARNING:tensorflow:Reduce LR on plateau conditioned on metric `val_acc` which is not available. Available metrics are: loss,accuracy,val_loss,val_accuracy,lr\n",
      "232644/232644 [==============================] - 450s 2ms/sample - loss: 1.5524 - accuracy: 0.5891 - val_loss: 1.2303 - val_accuracy: 0.6668\n",
      "Epoch 11/30\n",
      "232640/232644 [============================>.] - ETA: 0s - loss: 1.5114 - accuracy: 0.5970WARNING:tensorflow:Reduce LR on plateau conditioned on metric `val_acc` which is not available. Available metrics are: loss,accuracy,val_loss,val_accuracy,lr\n",
      "232644/232644 [==============================] - 521s 2ms/sample - loss: 1.5114 - accuracy: 0.5970 - val_loss: 1.1955 - val_accuracy: 0.6742\n",
      "Epoch 12/30\n",
      "232644/232644 [==============================] - ETA: 0s - loss: 1.4826 - accuracy: 0.6028WARNING:tensorflow:Reduce LR on plateau conditioned on metric `val_acc` which is not available. Available metrics are: loss,accuracy,val_loss,val_accuracy,lr\n",
      "232644/232644 [==============================] - 519s 2ms/sample - loss: 1.4826 - accuracy: 0.6028 - val_loss: 1.1636 - val_accuracy: 0.6816\n",
      "Epoch 13/30\n",
      "232644/232644 [==============================] - ETA: 0s - loss: 1.4493 - accuracy: 0.6106WARNING:tensorflow:Reduce LR on plateau conditioned on metric `val_acc` which is not available. Available metrics are: loss,accuracy,val_loss,val_accuracy,lr\n",
      "232644/232644 [==============================] - 522s 2ms/sample - loss: 1.4493 - accuracy: 0.6106 - val_loss: 1.1375 - val_accuracy: 0.6869\n",
      "Epoch 14/30\n",
      "232644/232644 [==============================] - ETA: 0s - loss: 1.4235 - accuracy: 0.6152WARNING:tensorflow:Reduce LR on plateau conditioned on metric `val_acc` which is not available. Available metrics are: loss,accuracy,val_loss,val_accuracy,lr\n",
      "232644/232644 [==============================] - 531s 2ms/sample - loss: 1.4235 - accuracy: 0.6152 - val_loss: 1.1140 - val_accuracy: 0.6923\n",
      "Epoch 15/30\n",
      "232640/232644 [============================>.] - ETA: 0s - loss: 1.4005 - accuracy: 0.6197WARNING:tensorflow:Reduce LR on plateau conditioned on metric `val_acc` which is not available. Available metrics are: loss,accuracy,val_loss,val_accuracy,lr\n",
      "232644/232644 [==============================] - 543s 2ms/sample - loss: 1.4005 - accuracy: 0.6197 - val_loss: 1.0929 - val_accuracy: 0.6983\n",
      "Epoch 16/30\n",
      "232644/232644 [==============================] - ETA: 0s - loss: 1.3759 - accuracy: 0.6250WARNING:tensorflow:Reduce LR on plateau conditioned on metric `val_acc` which is not available. Available metrics are: loss,accuracy,val_loss,val_accuracy,lr\n",
      "232644/232644 [==============================] - 615s 3ms/sample - loss: 1.3759 - accuracy: 0.6250 - val_loss: 1.0730 - val_accuracy: 0.7023\n",
      "Epoch 17/30\n",
      "232640/232644 [============================>.] - ETA: 0s - loss: 1.3563 - accuracy: 0.6296WARNING:tensorflow:Reduce LR on plateau conditioned on metric `val_acc` which is not available. Available metrics are: loss,accuracy,val_loss,val_accuracy,lr\n",
      "232644/232644 [==============================] - 862s 4ms/sample - loss: 1.3563 - accuracy: 0.6296 - val_loss: 1.0557 - val_accuracy: 0.7060\n",
      "Epoch 18/30\n",
      "232644/232644 [==============================] - ETA: 0s - loss: 1.3345 - accuracy: 0.6352WARNING:tensorflow:Reduce LR on plateau conditioned on metric `val_acc` which is not available. Available metrics are: loss,accuracy,val_loss,val_accuracy,lr\n",
      "232644/232644 [==============================] - 353s 2ms/sample - loss: 1.3345 - accuracy: 0.6352 - val_loss: 1.0389 - val_accuracy: 0.7100\n",
      "Epoch 19/30\n",
      "232640/232644 [============================>.] - ETA: 0s - loss: 1.3181 - accuracy: 0.6380WARNING:tensorflow:Reduce LR on plateau conditioned on metric `val_acc` which is not available. Available metrics are: loss,accuracy,val_loss,val_accuracy,lr\n",
      "232644/232644 [==============================] - 340s 1ms/sample - loss: 1.3182 - accuracy: 0.6380 - val_loss: 1.0237 - val_accuracy: 0.7139\n",
      "Epoch 20/30\n",
      "232640/232644 [============================>.] - ETA: 0s - loss: 1.3011 - accuracy: 0.6423WARNING:tensorflow:Reduce LR on plateau conditioned on metric `val_acc` which is not available. Available metrics are: loss,accuracy,val_loss,val_accuracy,lr\n",
      "232644/232644 [==============================] - 353s 2ms/sample - loss: 1.3012 - accuracy: 0.6423 - val_loss: 1.0119 - val_accuracy: 0.7165\n",
      "Epoch 21/30\n"
     ]
    },
    {
     "name": "stdout",
     "output_type": "stream",
     "text": [
      "232640/232644 [============================>.] - ETA: 0s - loss: 1.2880 - accuracy: 0.6454WARNING:tensorflow:Reduce LR on plateau conditioned on metric `val_acc` which is not available. Available metrics are: loss,accuracy,val_loss,val_accuracy,lr\n",
      "232644/232644 [==============================] - 354s 2ms/sample - loss: 1.2880 - accuracy: 0.6454 - val_loss: 0.9994 - val_accuracy: 0.7201\n",
      "Epoch 22/30\n",
      "232640/232644 [============================>.] - ETA: 0s - loss: 1.2727 - accuracy: 0.6473WARNING:tensorflow:Reduce LR on plateau conditioned on metric `val_acc` which is not available. Available metrics are: loss,accuracy,val_loss,val_accuracy,lr\n",
      "232644/232644 [==============================] - 348s 1ms/sample - loss: 1.2727 - accuracy: 0.6473 - val_loss: 0.9873 - val_accuracy: 0.7233\n",
      "Epoch 23/30\n",
      "232644/232644 [==============================] - ETA: 0s - loss: 1.2573 - accuracy: 0.6514WARNING:tensorflow:Reduce LR on plateau conditioned on metric `val_acc` which is not available. Available metrics are: loss,accuracy,val_loss,val_accuracy,lr\n",
      "232644/232644 [==============================] - 349s 2ms/sample - loss: 1.2573 - accuracy: 0.6514 - val_loss: 0.9740 - val_accuracy: 0.7255\n",
      "Epoch 24/30\n",
      "232644/232644 [==============================] - ETA: 0s - loss: 1.2448 - accuracy: 0.6544WARNING:tensorflow:Reduce LR on plateau conditioned on metric `val_acc` which is not available. Available metrics are: loss,accuracy,val_loss,val_accuracy,lr\n",
      "232644/232644 [==============================] - 344s 1ms/sample - loss: 1.2448 - accuracy: 0.6544 - val_loss: 0.9640 - val_accuracy: 0.7283\n",
      "Epoch 25/30\n",
      "232644/232644 [==============================] - ETA: 0s - loss: 1.2349 - accuracy: 0.6570WARNING:tensorflow:Reduce LR on plateau conditioned on metric `val_acc` which is not available. Available metrics are: loss,accuracy,val_loss,val_accuracy,lr\n",
      "232644/232644 [==============================] - 341s 1ms/sample - loss: 1.2349 - accuracy: 0.6570 - val_loss: 0.9535 - val_accuracy: 0.7305\n",
      "Epoch 26/30\n",
      "232640/232644 [============================>.] - ETA: 0s - loss: 1.2179 - accuracy: 0.6610WARNING:tensorflow:Reduce LR on plateau conditioned on metric `val_acc` which is not available. Available metrics are: loss,accuracy,val_loss,val_accuracy,lr\n",
      "232644/232644 [==============================] - 352s 2ms/sample - loss: 1.2180 - accuracy: 0.6610 - val_loss: 0.9441 - val_accuracy: 0.7327\n",
      "Epoch 27/30\n",
      "232640/232644 [============================>.] - ETA: 0s - loss: 1.2106 - accuracy: 0.6621WARNING:tensorflow:Reduce LR on plateau conditioned on metric `val_acc` which is not available. Available metrics are: loss,accuracy,val_loss,val_accuracy,lr\n",
      "232644/232644 [==============================] - 333s 1ms/sample - loss: 1.2106 - accuracy: 0.6621 - val_loss: 0.9336 - val_accuracy: 0.7353\n",
      "Epoch 28/30\n",
      "232640/232644 [============================>.] - ETA: 0s - loss: 1.2015 - accuracy: 0.6640WARNING:tensorflow:Reduce LR on plateau conditioned on metric `val_acc` which is not available. Available metrics are: loss,accuracy,val_loss,val_accuracy,lr\n",
      "232644/232644 [==============================] - 355s 2ms/sample - loss: 1.2015 - accuracy: 0.6640 - val_loss: 0.9259 - val_accuracy: 0.7372\n",
      "Epoch 29/30\n",
      "232644/232644 [==============================] - ETA: 0s - loss: 1.1881 - accuracy: 0.6672WARNING:tensorflow:Reduce LR on plateau conditioned on metric `val_acc` which is not available. Available metrics are: loss,accuracy,val_loss,val_accuracy,lr\n",
      "232644/232644 [==============================] - 355s 2ms/sample - loss: 1.1881 - accuracy: 0.6672 - val_loss: 0.9174 - val_accuracy: 0.7392\n",
      "Epoch 30/30\n",
      "232644/232644 [==============================] - ETA: 0s - loss: 1.1822 - accuracy: 0.6698WARNING:tensorflow:Reduce LR on plateau conditioned on metric `val_acc` which is not available. Available metrics are: loss,accuracy,val_loss,val_accuracy,lr\n",
      "232644/232644 [==============================] - 332s 1ms/sample - loss: 1.1822 - accuracy: 0.6698 - val_loss: 0.9090 - val_accuracy: 0.7406\n"
     ]
    }
   ],
   "source": [
    "learning_rate_reduction = keras.callbacks.ReduceLROnPlateau(monitor='val_acc', patience=3, verbose=1, factor=0.5, min_lr=0.00001)\n",
    "\n",
    "tf.compat.v1.keras.backend.get_session().run(tf.compat.v1.global_variables_initializer())\n",
    "\n",
    "model2.fit(X_train, x_train_cat, validation_data=(X_test, y_test_cat), callbacks=[learning_rate_reduction], batch_size=64, epochs=30)\n",
    "\n",
    "model2.save('emnist_letters2.h5')"
   ]
  },
  {
   "cell_type": "code",
   "execution_count": 9,
   "metadata": {},
   "outputs": [],
   "source": [
    "model = keras.models.load_model('emnist_letters2.h5')\n",
    "\n",
    "def emnist_predict_img(model, img):\n",
    "    img_arr = np.expand_dims(img, axis=0)\n",
    "    img_arr = 1 - img_arr/255.0\n",
    "    img_arr[0] = np.rot90(img_arr[0], 3)\n",
    "    img_arr[0] = np.fliplr(img_arr[0])\n",
    "    img_arr = img_arr.reshape((1, 28, 28, 1))\n",
    "\n",
    "    result = model.predict_classes([img_arr])\n",
    "    return chr(emnist_labels[result[0]])"
   ]
  },
  {
   "cell_type": "code",
   "execution_count": 10,
   "metadata": {},
   "outputs": [],
   "source": [
    "def img_to_str(model: Any, image_file: str):\n",
    "    letters = letters_extract(image_file)\n",
    "    s_out = \"\"\n",
    "    for i in range(len(letters)):\n",
    "        dn = letters[i+1][0] - letters[i][0] - letters[i][1] if i < len(letters) - 1 else 0\n",
    "        s_out += emnist_predict_img(model, letters[i][2])\n",
    "        if (dn > letters[i][1]/4):\n",
    "            s_out += ' '\n",
    "    return s_out"
   ]
  },
  {
   "cell_type": "code",
   "execution_count": 11,
   "metadata": {},
   "outputs": [
    {
     "name": "stdout",
     "output_type": "stream",
     "text": [
      "CUUF5CWUFL\n"
     ]
    }
   ],
   "source": [
    "s_out = img_to_str(model, \"text.png\")\n",
    "print(s_out)"
   ]
  },
  {
   "cell_type": "code",
   "execution_count": null,
   "metadata": {},
   "outputs": [],
   "source": []
  }
 ],
 "metadata": {
  "kernelspec": {
   "display_name": "env1",
   "language": "python",
   "name": "env1"
  },
  "language_info": {
   "codemirror_mode": {
    "name": "ipython",
    "version": 3
   },
   "file_extension": ".py",
   "mimetype": "text/x-python",
   "name": "python",
   "nbconvert_exporter": "python",
   "pygments_lexer": "ipython3",
   "version": "3.7.1"
  }
 },
 "nbformat": 4,
 "nbformat_minor": 4
}
