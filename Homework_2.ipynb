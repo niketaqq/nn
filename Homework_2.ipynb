{
 "cells": [
  {
   "cell_type": "markdown",
   "metadata": {
    "toc": true
   },
   "source": [
    "<h1>Table of Contents<span class=\"tocSkip\"></span></h1>\n",
    "<div class=\"toc\"><ul class=\"toc-item\"><li><span><a href=\"#-Homework-2-(Topics-5-7:-Groupby,-Merge,-Visualization)\" data-toc-modified-id=\"-Homework-2-(Topics-5-7:-Groupby,-Merge,-Visualization)-1\"><span class=\"toc-item-num\">1&nbsp;&nbsp;</span> Homework 2 (Topics 5-7: Groupby, Merge, Visualization)</a></span><ul class=\"toc-item\"><li><ul class=\"toc-item\"><li><ul class=\"toc-item\"><li><span><a href=\"#Task-0.\" data-toc-modified-id=\"Task-0.-1.0.0.1\"><span class=\"toc-item-num\">1.0.0.1&nbsp;&nbsp;</span>Task 0.</a></span></li><li><span><a href=\"#Task-1.\" data-toc-modified-id=\"Task-1.-1.0.0.2\"><span class=\"toc-item-num\">1.0.0.2&nbsp;&nbsp;</span>Task 1.</a></span></li><li><span><a href=\"#Task-2:\" data-toc-modified-id=\"Task-2:-1.0.0.3\"><span class=\"toc-item-num\">1.0.0.3&nbsp;&nbsp;</span>Task 2:</a></span></li><li><span><a href=\"#Task-3:\" data-toc-modified-id=\"Task-3:-1.0.0.4\"><span class=\"toc-item-num\">1.0.0.4&nbsp;&nbsp;</span>Task 3:</a></span></li><li><span><a href=\"#Task-4:\" data-toc-modified-id=\"Task-4:-1.0.0.5\"><span class=\"toc-item-num\">1.0.0.5&nbsp;&nbsp;</span>Task 4:</a></span></li><li><span><a href=\"#Task-5:\" data-toc-modified-id=\"Task-5:-1.0.0.6\"><span class=\"toc-item-num\">1.0.0.6&nbsp;&nbsp;</span>Task 5:</a></span></li><li><span><a href=\"#Вопросы:\" data-toc-modified-id=\"Вопросы:-1.0.0.7\"><span class=\"toc-item-num\">1.0.0.7&nbsp;&nbsp;</span>Вопросы:</a></span></li><li><span><a href=\"#Task-6:\" data-toc-modified-id=\"Task-6:-1.0.0.8\"><span class=\"toc-item-num\">1.0.0.8&nbsp;&nbsp;</span>Task 6:</a></span></li><li><span><a href=\"#Вопросы:\" data-toc-modified-id=\"Вопросы:-1.0.0.9\"><span class=\"toc-item-num\">1.0.0.9&nbsp;&nbsp;</span>Вопросы:</a></span></li></ul></li></ul></li></ul></li></ul></div>"
   ]
  },
  {
   "cell_type": "markdown",
   "metadata": {},
   "source": [
    "# <center> Homework 2 (Topics 5-7: Groupby, Merge, Visualization)"
   ]
  },
  {
   "cell_type": "code",
   "execution_count": 1,
   "metadata": {
    "ExecuteTime": {
     "end_time": "2020-12-12T11:58:54.603661Z",
     "start_time": "2020-12-12T11:58:46.240768Z"
    }
   },
   "outputs": [],
   "source": [
    "import pandas as pd\n",
    "import numpy as np\n",
    "\n",
    "import matplotlib.pyplot as plt\n",
    "import seaborn as sns\n",
    "%matplotlib inline"
   ]
  },
  {
   "cell_type": "markdown",
   "metadata": {},
   "source": [
    "Ещё раз (как и в задании 1) считайте в переменные tr_mcc_codes, tr_types, transactions и customers_gender_train. В transactions опять считайте только первые 1000000 строк."
   ]
  },
  {
   "cell_type": "code",
   "execution_count": 2,
   "metadata": {
    "ExecuteTime": {
     "end_time": "2020-12-12T11:58:56.768121Z",
     "start_time": "2020-12-12T11:58:54.641197Z"
    }
   },
   "outputs": [],
   "source": [
    "tr_mcc_codes = pd.read_csv('../tr_mcc_codes.csv', sep=';')\n",
    "tr_types = pd.read_csv('../tr_types.csv', sep=';')\n",
    "transactions = pd.read_csv('../transactions.csv', nrows=1000000)\n",
    "gender_train = pd.read_csv('../gender_train.csv')"
   ]
  },
  {
   "cell_type": "markdown",
   "metadata": {},
   "source": [
    "#### Task 0.\n",
    "Соедините transactions с всеми остальными таблицами (tr_mcc_codes, tr_types, gender_train). Причём с customers_gender_train необходимо смёрджиться с помощью left join, а с оставшимися датафреймами - через inner.\n",
    "После получения результата таблицы gender_train, tr_types, tr_mcc_codes можно удалить. В результате соединения датафреймов должно получиться 999584 строки."
   ]
  },
  {
   "cell_type": "code",
   "execution_count": 3,
   "metadata": {
    "ExecuteTime": {
     "end_time": "2020-12-12T11:58:58.359673Z",
     "start_time": "2020-12-12T11:58:56.871281Z"
    }
   },
   "outputs": [
    {
     "data": {
      "text/html": [
       "<div>\n",
       "<style scoped>\n",
       "    .dataframe tbody tr th:only-of-type {\n",
       "        vertical-align: middle;\n",
       "    }\n",
       "\n",
       "    .dataframe tbody tr th {\n",
       "        vertical-align: top;\n",
       "    }\n",
       "\n",
       "    .dataframe thead th {\n",
       "        text-align: right;\n",
       "    }\n",
       "</style>\n",
       "<table border=\"1\" class=\"dataframe\">\n",
       "  <thead>\n",
       "    <tr style=\"text-align: right;\">\n",
       "      <th></th>\n",
       "      <th>customer_id</th>\n",
       "      <th>tr_datetime</th>\n",
       "      <th>mcc_code</th>\n",
       "      <th>tr_type</th>\n",
       "      <th>amount</th>\n",
       "      <th>term_id</th>\n",
       "      <th>gender</th>\n",
       "      <th>mcc_description</th>\n",
       "      <th>tr_description</th>\n",
       "    </tr>\n",
       "  </thead>\n",
       "  <tbody>\n",
       "    <tr>\n",
       "      <th>0</th>\n",
       "      <td>39026145</td>\n",
       "      <td>0 10:23:26</td>\n",
       "      <td>4814</td>\n",
       "      <td>1030</td>\n",
       "      <td>-2245.92</td>\n",
       "      <td>NaN</td>\n",
       "      <td>1.0</td>\n",
       "      <td>Звонки с использованием телефонов, считывающих...</td>\n",
       "      <td>Оплата услуги. Банкоматы СБ РФ</td>\n",
       "    </tr>\n",
       "    <tr>\n",
       "      <th>1</th>\n",
       "      <td>39026145</td>\n",
       "      <td>6 07:08:31</td>\n",
       "      <td>4814</td>\n",
       "      <td>1030</td>\n",
       "      <td>-5614.79</td>\n",
       "      <td>NaN</td>\n",
       "      <td>1.0</td>\n",
       "      <td>Звонки с использованием телефонов, считывающих...</td>\n",
       "      <td>Оплата услуги. Банкоматы СБ РФ</td>\n",
       "    </tr>\n",
       "    <tr>\n",
       "      <th>2</th>\n",
       "      <td>39026145</td>\n",
       "      <td>8 07:06:10</td>\n",
       "      <td>4814</td>\n",
       "      <td>1030</td>\n",
       "      <td>-1122.96</td>\n",
       "      <td>NaN</td>\n",
       "      <td>1.0</td>\n",
       "      <td>Звонки с использованием телефонов, считывающих...</td>\n",
       "      <td>Оплата услуги. Банкоматы СБ РФ</td>\n",
       "    </tr>\n",
       "    <tr>\n",
       "      <th>3</th>\n",
       "      <td>39026145</td>\n",
       "      <td>11 08:49:03</td>\n",
       "      <td>4814</td>\n",
       "      <td>1030</td>\n",
       "      <td>-2245.92</td>\n",
       "      <td>NaN</td>\n",
       "      <td>1.0</td>\n",
       "      <td>Звонки с использованием телефонов, считывающих...</td>\n",
       "      <td>Оплата услуги. Банкоматы СБ РФ</td>\n",
       "    </tr>\n",
       "    <tr>\n",
       "      <th>4</th>\n",
       "      <td>39026145</td>\n",
       "      <td>11 14:12:08</td>\n",
       "      <td>4814</td>\n",
       "      <td>1030</td>\n",
       "      <td>-2245.92</td>\n",
       "      <td>NaN</td>\n",
       "      <td>1.0</td>\n",
       "      <td>Звонки с использованием телефонов, считывающих...</td>\n",
       "      <td>Оплата услуги. Банкоматы СБ РФ</td>\n",
       "    </tr>\n",
       "    <tr>\n",
       "      <th>...</th>\n",
       "      <td>...</td>\n",
       "      <td>...</td>\n",
       "      <td>...</td>\n",
       "      <td>...</td>\n",
       "      <td>...</td>\n",
       "      <td>...</td>\n",
       "      <td>...</td>\n",
       "      <td>...</td>\n",
       "      <td>...</td>\n",
       "    </tr>\n",
       "    <tr>\n",
       "      <th>999579</th>\n",
       "      <td>36837532</td>\n",
       "      <td>18 23:38:60</td>\n",
       "      <td>3000</td>\n",
       "      <td>6000</td>\n",
       "      <td>1297824.89</td>\n",
       "      <td>NaN</td>\n",
       "      <td>NaN</td>\n",
       "      <td>Авиалинии, авиакомпании</td>\n",
       "      <td>Возврат  покупки. ТУ СБ РФ</td>\n",
       "    </tr>\n",
       "    <tr>\n",
       "      <th>999580</th>\n",
       "      <td>6808459</td>\n",
       "      <td>206 19:00:10</td>\n",
       "      <td>3000</td>\n",
       "      <td>6000</td>\n",
       "      <td>124693.24</td>\n",
       "      <td>NaN</td>\n",
       "      <td>NaN</td>\n",
       "      <td>Авиалинии, авиакомпании</td>\n",
       "      <td>Возврат  покупки. ТУ СБ РФ</td>\n",
       "    </tr>\n",
       "    <tr>\n",
       "      <th>999581</th>\n",
       "      <td>83759123</td>\n",
       "      <td>90 22:40:57</td>\n",
       "      <td>3000</td>\n",
       "      <td>6000</td>\n",
       "      <td>218976.79</td>\n",
       "      <td>NaN</td>\n",
       "      <td>NaN</td>\n",
       "      <td>Авиалинии, авиакомпании</td>\n",
       "      <td>Возврат  покупки. ТУ СБ РФ</td>\n",
       "    </tr>\n",
       "    <tr>\n",
       "      <th>999582</th>\n",
       "      <td>89619970</td>\n",
       "      <td>104 23:39:35</td>\n",
       "      <td>3000</td>\n",
       "      <td>6000</td>\n",
       "      <td>408307.49</td>\n",
       "      <td>NaN</td>\n",
       "      <td>NaN</td>\n",
       "      <td>Авиалинии, авиакомпании</td>\n",
       "      <td>Возврат  покупки. ТУ СБ РФ</td>\n",
       "    </tr>\n",
       "    <tr>\n",
       "      <th>999583</th>\n",
       "      <td>89619970</td>\n",
       "      <td>105 23:38:49</td>\n",
       "      <td>3000</td>\n",
       "      <td>6000</td>\n",
       "      <td>204153.74</td>\n",
       "      <td>NaN</td>\n",
       "      <td>NaN</td>\n",
       "      <td>Авиалинии, авиакомпании</td>\n",
       "      <td>Возврат  покупки. ТУ СБ РФ</td>\n",
       "    </tr>\n",
       "  </tbody>\n",
       "</table>\n",
       "<p>999584 rows × 9 columns</p>\n",
       "</div>"
      ],
      "text/plain": [
       "        customer_id   tr_datetime  mcc_code  tr_type      amount term_id  \\\n",
       "0          39026145    0 10:23:26      4814     1030    -2245.92     NaN   \n",
       "1          39026145    6 07:08:31      4814     1030    -5614.79     NaN   \n",
       "2          39026145    8 07:06:10      4814     1030    -1122.96     NaN   \n",
       "3          39026145   11 08:49:03      4814     1030    -2245.92     NaN   \n",
       "4          39026145   11 14:12:08      4814     1030    -2245.92     NaN   \n",
       "...             ...           ...       ...      ...         ...     ...   \n",
       "999579     36837532   18 23:38:60      3000     6000  1297824.89     NaN   \n",
       "999580      6808459  206 19:00:10      3000     6000   124693.24     NaN   \n",
       "999581     83759123   90 22:40:57      3000     6000   218976.79     NaN   \n",
       "999582     89619970  104 23:39:35      3000     6000   408307.49     NaN   \n",
       "999583     89619970  105 23:38:49      3000     6000   204153.74     NaN   \n",
       "\n",
       "        gender                                    mcc_description  \\\n",
       "0          1.0  Звонки с использованием телефонов, считывающих...   \n",
       "1          1.0  Звонки с использованием телефонов, считывающих...   \n",
       "2          1.0  Звонки с использованием телефонов, считывающих...   \n",
       "3          1.0  Звонки с использованием телефонов, считывающих...   \n",
       "4          1.0  Звонки с использованием телефонов, считывающих...   \n",
       "...        ...                                                ...   \n",
       "999579     NaN                            Авиалинии, авиакомпании   \n",
       "999580     NaN                            Авиалинии, авиакомпании   \n",
       "999581     NaN                            Авиалинии, авиакомпании   \n",
       "999582     NaN                            Авиалинии, авиакомпании   \n",
       "999583     NaN                            Авиалинии, авиакомпании   \n",
       "\n",
       "                        tr_description  \n",
       "0       Оплата услуги. Банкоматы СБ РФ  \n",
       "1       Оплата услуги. Банкоматы СБ РФ  \n",
       "2       Оплата услуги. Банкоматы СБ РФ  \n",
       "3       Оплата услуги. Банкоматы СБ РФ  \n",
       "4       Оплата услуги. Банкоматы СБ РФ  \n",
       "...                                ...  \n",
       "999579      Возврат  покупки. ТУ СБ РФ  \n",
       "999580      Возврат  покупки. ТУ СБ РФ  \n",
       "999581      Возврат  покупки. ТУ СБ РФ  \n",
       "999582      Возврат  покупки. ТУ СБ РФ  \n",
       "999583      Возврат  покупки. ТУ СБ РФ  \n",
       "\n",
       "[999584 rows x 9 columns]"
      ]
     },
     "execution_count": 3,
     "metadata": {},
     "output_type": "execute_result"
    }
   ],
   "source": [
    "transactions = pd.merge(transactions, gender_train, how='left', on='customer_id')\n",
    "transactions = pd.merge(transactions, tr_mcc_codes, on='mcc_code')\n",
    "transactions = pd.merge(transactions, tr_types, on='tr_type')\n",
    "transactions"
   ]
  },
  {
   "cell_type": "markdown",
   "metadata": {},
   "source": [
    "#### Task 1.\n",
    "1. Определите модуль разницы между средними тратами женщин и мужчин (трата - отрицательное значение amount). (*)\n",
    "\n",
    "Выведите ответ в виде вещественного числа, округлённого до двух знаков после запятой, отделив дробную часть точкой в формате \"123.45\"\n",
    "\n",
    "##### Пояснения:\n",
    "(\\*) Если в результате для мужчин получились значения [-1,-3,-5], а для женщин [-1,-2,-3],  \n",
    "то модуль разницы между средними арифметическими -3 и -2 будет равен 1.\n",
    "\n",
    "(\\**) Обратите внимание, что для вычисления модуля разности точных знаний о том,  \n",
    "какой класc относится к мужчинам, а какой - к женщинам, пока не требуется.\n",
    "\n",
    "(\\***) Округление не нужно производить отдельно по средним тратам женщин и мужчин, а только в самом конце, когда получите значение модуля разницы трат."
   ]
  },
  {
   "cell_type": "code",
   "execution_count": 4,
   "metadata": {
    "ExecuteTime": {
     "end_time": "2020-12-12T11:37:53.153734Z",
     "start_time": "2020-12-12T11:37:52.833841Z"
    }
   },
   "outputs": [
    {
     "data": {
      "text/html": [
       "<div>\n",
       "<style scoped>\n",
       "    .dataframe tbody tr th:only-of-type {\n",
       "        vertical-align: middle;\n",
       "    }\n",
       "\n",
       "    .dataframe tbody tr th {\n",
       "        vertical-align: top;\n",
       "    }\n",
       "\n",
       "    .dataframe thead th {\n",
       "        text-align: right;\n",
       "    }\n",
       "</style>\n",
       "<table border=\"1\" class=\"dataframe\">\n",
       "  <thead>\n",
       "    <tr style=\"text-align: right;\">\n",
       "      <th></th>\n",
       "      <th>customer_id</th>\n",
       "      <th>tr_datetime</th>\n",
       "      <th>mcc_code</th>\n",
       "      <th>tr_type</th>\n",
       "      <th>amount</th>\n",
       "      <th>term_id</th>\n",
       "      <th>gender</th>\n",
       "      <th>mcc_description</th>\n",
       "      <th>tr_description</th>\n",
       "    </tr>\n",
       "  </thead>\n",
       "  <tbody>\n",
       "    <tr>\n",
       "      <th>0</th>\n",
       "      <td>39026145</td>\n",
       "      <td>0 10:23:26</td>\n",
       "      <td>4814</td>\n",
       "      <td>1030</td>\n",
       "      <td>-2245.92</td>\n",
       "      <td>NaN</td>\n",
       "      <td>1.0</td>\n",
       "      <td>Звонки с использованием телефонов, считывающих...</td>\n",
       "      <td>Оплата услуги. Банкоматы СБ РФ</td>\n",
       "    </tr>\n",
       "    <tr>\n",
       "      <th>1</th>\n",
       "      <td>39026145</td>\n",
       "      <td>6 07:08:31</td>\n",
       "      <td>4814</td>\n",
       "      <td>1030</td>\n",
       "      <td>-5614.79</td>\n",
       "      <td>NaN</td>\n",
       "      <td>1.0</td>\n",
       "      <td>Звонки с использованием телефонов, считывающих...</td>\n",
       "      <td>Оплата услуги. Банкоматы СБ РФ</td>\n",
       "    </tr>\n",
       "    <tr>\n",
       "      <th>2</th>\n",
       "      <td>39026145</td>\n",
       "      <td>8 07:06:10</td>\n",
       "      <td>4814</td>\n",
       "      <td>1030</td>\n",
       "      <td>-1122.96</td>\n",
       "      <td>NaN</td>\n",
       "      <td>1.0</td>\n",
       "      <td>Звонки с использованием телефонов, считывающих...</td>\n",
       "      <td>Оплата услуги. Банкоматы СБ РФ</td>\n",
       "    </tr>\n",
       "    <tr>\n",
       "      <th>3</th>\n",
       "      <td>39026145</td>\n",
       "      <td>11 08:49:03</td>\n",
       "      <td>4814</td>\n",
       "      <td>1030</td>\n",
       "      <td>-2245.92</td>\n",
       "      <td>NaN</td>\n",
       "      <td>1.0</td>\n",
       "      <td>Звонки с использованием телефонов, считывающих...</td>\n",
       "      <td>Оплата услуги. Банкоматы СБ РФ</td>\n",
       "    </tr>\n",
       "    <tr>\n",
       "      <th>4</th>\n",
       "      <td>39026145</td>\n",
       "      <td>11 14:12:08</td>\n",
       "      <td>4814</td>\n",
       "      <td>1030</td>\n",
       "      <td>-2245.92</td>\n",
       "      <td>NaN</td>\n",
       "      <td>1.0</td>\n",
       "      <td>Звонки с использованием телефонов, считывающих...</td>\n",
       "      <td>Оплата услуги. Банкоматы СБ РФ</td>\n",
       "    </tr>\n",
       "    <tr>\n",
       "      <th>...</th>\n",
       "      <td>...</td>\n",
       "      <td>...</td>\n",
       "      <td>...</td>\n",
       "      <td>...</td>\n",
       "      <td>...</td>\n",
       "      <td>...</td>\n",
       "      <td>...</td>\n",
       "      <td>...</td>\n",
       "      <td>...</td>\n",
       "    </tr>\n",
       "    <tr>\n",
       "      <th>999497</th>\n",
       "      <td>16214146</td>\n",
       "      <td>447 18:26:53</td>\n",
       "      <td>4900</td>\n",
       "      <td>2320</td>\n",
       "      <td>-5.39</td>\n",
       "      <td>888913</td>\n",
       "      <td>1.0</td>\n",
       "      <td>Коммунальные услуги — электричество, газ, сани...</td>\n",
       "      <td>Безналичный перевод денежных средств через POS</td>\n",
       "    </tr>\n",
       "    <tr>\n",
       "      <th>999524</th>\n",
       "      <td>56636675</td>\n",
       "      <td>40 12:24:15</td>\n",
       "      <td>4900</td>\n",
       "      <td>2320</td>\n",
       "      <td>-92754.08</td>\n",
       "      <td>NaN</td>\n",
       "      <td>1.0</td>\n",
       "      <td>Коммунальные услуги — электричество, газ, сани...</td>\n",
       "      <td>Безналичный перевод денежных средств через POS</td>\n",
       "    </tr>\n",
       "    <tr>\n",
       "      <th>999545</th>\n",
       "      <td>11288915</td>\n",
       "      <td>319 16:24:15</td>\n",
       "      <td>4900</td>\n",
       "      <td>2320</td>\n",
       "      <td>-898.37</td>\n",
       "      <td>888993</td>\n",
       "      <td>1.0</td>\n",
       "      <td>Коммунальные услуги — электричество, газ, сани...</td>\n",
       "      <td>Безналичный перевод денежных средств через POS</td>\n",
       "    </tr>\n",
       "    <tr>\n",
       "      <th>999546</th>\n",
       "      <td>11288915</td>\n",
       "      <td>365 00:12:17</td>\n",
       "      <td>4900</td>\n",
       "      <td>2320</td>\n",
       "      <td>-100617.03</td>\n",
       "      <td>888905</td>\n",
       "      <td>1.0</td>\n",
       "      <td>Коммунальные услуги — электричество, газ, сани...</td>\n",
       "      <td>Безналичный перевод денежных средств через POS</td>\n",
       "    </tr>\n",
       "    <tr>\n",
       "      <th>999547</th>\n",
       "      <td>11288915</td>\n",
       "      <td>365 00:14:03</td>\n",
       "      <td>4900</td>\n",
       "      <td>2320</td>\n",
       "      <td>-2201.00</td>\n",
       "      <td>888918</td>\n",
       "      <td>1.0</td>\n",
       "      <td>Коммунальные услуги — электричество, газ, сани...</td>\n",
       "      <td>Безналичный перевод денежных средств через POS</td>\n",
       "    </tr>\n",
       "  </tbody>\n",
       "</table>\n",
       "<p>209355 rows × 9 columns</p>\n",
       "</div>"
      ],
      "text/plain": [
       "        customer_id   tr_datetime  mcc_code  tr_type     amount term_id  \\\n",
       "0          39026145    0 10:23:26      4814     1030   -2245.92     NaN   \n",
       "1          39026145    6 07:08:31      4814     1030   -5614.79     NaN   \n",
       "2          39026145    8 07:06:10      4814     1030   -1122.96     NaN   \n",
       "3          39026145   11 08:49:03      4814     1030   -2245.92     NaN   \n",
       "4          39026145   11 14:12:08      4814     1030   -2245.92     NaN   \n",
       "...             ...           ...       ...      ...        ...     ...   \n",
       "999497     16214146  447 18:26:53      4900     2320      -5.39  888913   \n",
       "999524     56636675   40 12:24:15      4900     2320  -92754.08     NaN   \n",
       "999545     11288915  319 16:24:15      4900     2320    -898.37  888993   \n",
       "999546     11288915  365 00:12:17      4900     2320 -100617.03  888905   \n",
       "999547     11288915  365 00:14:03      4900     2320   -2201.00  888918   \n",
       "\n",
       "        gender                                    mcc_description  \\\n",
       "0          1.0  Звонки с использованием телефонов, считывающих...   \n",
       "1          1.0  Звонки с использованием телефонов, считывающих...   \n",
       "2          1.0  Звонки с использованием телефонов, считывающих...   \n",
       "3          1.0  Звонки с использованием телефонов, считывающих...   \n",
       "4          1.0  Звонки с использованием телефонов, считывающих...   \n",
       "...        ...                                                ...   \n",
       "999497     1.0  Коммунальные услуги — электричество, газ, сани...   \n",
       "999524     1.0  Коммунальные услуги — электричество, газ, сани...   \n",
       "999545     1.0  Коммунальные услуги — электричество, газ, сани...   \n",
       "999546     1.0  Коммунальные услуги — электричество, газ, сани...   \n",
       "999547     1.0  Коммунальные услуги — электричество, газ, сани...   \n",
       "\n",
       "                                        tr_description  \n",
       "0                       Оплата услуги. Банкоматы СБ РФ  \n",
       "1                       Оплата услуги. Банкоматы СБ РФ  \n",
       "2                       Оплата услуги. Банкоматы СБ РФ  \n",
       "3                       Оплата услуги. Банкоматы СБ РФ  \n",
       "4                       Оплата услуги. Банкоматы СБ РФ  \n",
       "...                                                ...  \n",
       "999497  Безналичный перевод денежных средств через POS  \n",
       "999524  Безналичный перевод денежных средств через POS  \n",
       "999545  Безналичный перевод денежных средств через POS  \n",
       "999546  Безналичный перевод денежных средств через POS  \n",
       "999547  Безналичный перевод денежных средств через POS  \n",
       "\n",
       "[209355 rows x 9 columns]"
      ]
     },
     "execution_count": 4,
     "metadata": {},
     "output_type": "execute_result"
    }
   ],
   "source": [
    "transactions[(transactions['gender'] == 1) & (transactions['amount'] < 0)]"
   ]
  },
  {
   "cell_type": "code",
   "execution_count": 5,
   "metadata": {
    "ExecuteTime": {
     "end_time": "2020-12-12T11:27:32.010656Z",
     "start_time": "2020-12-12T11:27:31.803190Z"
    }
   },
   "outputs": [
    {
     "data": {
      "text/plain": [
       "32718.05"
      ]
     },
     "execution_count": 5,
     "metadata": {},
     "output_type": "execute_result"
    }
   ],
   "source": [
    "round(np.ptp(transactions[transactions['amount'] < 0].groupby('gender').mean()['amount']), 2)"
   ]
  },
  {
   "cell_type": "markdown",
   "metadata": {},
   "source": [
    "#### Task 2:\n",
    "1. Создайте новый столбец - mcc_code+tr_type, сконкатенировав значения из соответствующих столбцов. (\\*)\n",
    "2. Оставьте только наблюдения с отрицательным значением amount. Посчитайте дисперсию по категориям получившегося столбца mcc_code+tr_type, в которых количество наблюдений >= 10. \n",
    "3. Определите отношение максимальной дисперсии к минимальной.\n",
    "\n",
    "Выведите ответ в виде вещественного числа, округлённого до ближайшего целого в формате \"123456\" без дробной части.\n",
    "\n",
    "##### Пояснения:\n",
    "(\\*) Для конкатенации значений в столбцах можно использовать метод .astype(str) для серии и складывать соответствующие серии. Либо же применять apply к строкам датафрейма, прописывая логику преобразования и конкатенации значений внутри.\n",
    "\n",
    "(\\**) Для одновременного подсчета количества наблюдений и дисперсии по категориям можно воспользоваться функцией .agg()"
   ]
  },
  {
   "cell_type": "code",
   "execution_count": 6,
   "metadata": {
    "ExecuteTime": {
     "end_time": "2020-12-12T11:38:09.784317Z",
     "start_time": "2020-12-12T11:38:04.855246Z"
    }
   },
   "outputs": [
    {
     "data": {
      "text/plain": [
       "9170599"
      ]
     },
     "execution_count": 6,
     "metadata": {},
     "output_type": "execute_result"
    }
   ],
   "source": [
    "transactions['mcc_code+tr_type'] = transactions['mcc_code'].astype(str) + transactions['tr_type'].astype(str)\n",
    "id_count = transactions[transactions['amount'] < 0].groupby('mcc_code+tr_type').count()['amount']\n",
    "round(max(transactions[transactions['amount'] < 0].groupby('mcc_code+tr_type').var()['amount'][id_count >= 10])/min(transactions[transactions['amount'] < 0].groupby('mcc_code+tr_type').var()['amount'][id_count >= 10]))"
   ]
  },
  {
   "cell_type": "markdown",
   "metadata": {},
   "source": [
    "#### Task 3:\n",
    "1. По всем типам транзакций рассчитайте максимальную сумму прихода на карту (из строго положительных сумм по столбцу amount) отдельно для мужчин и женщин (назовите ее \"max_income\"). Оставьте по 5 транзакций для мужчин и для женщин, наименьших среди всех транзакций по полученным значениям \"max_income\". (\\*)\n",
    "2. Выделите среди них те, которые встречаются одновременно и у мужчин, и у женщин:\n",
    "    - 1) Покупка. POS ТУ СБ РФ\t\n",
    "    - 2) Списание после проведения претензионной работы\t\n",
    "    - 3) Плата за получение наличных. Россия\t\n",
    "    - 4) Перевод на карту/ с карты через АТМ (со взиманием комиссии с отправителя) по счету в овердрафте\t\n",
    "    - 5) Плата за получение наличных в АТМ. Россия\t \n",
    "    - 6) Наличные. Зарубеж. банк\t\n",
    "    - 7) Возврат покупки. POS ТУ Россия\n",
    "\n",
    "##### Пояснения:\n",
    "(\\*) Если максимальные суммы приходов по каким-то типам были равны [1,2,3,4,5,6,7,8], то 5 минимальных из них: [1,2,3,4,5]"
   ]
  },
  {
   "cell_type": "code",
   "execution_count": 7,
   "metadata": {},
   "outputs": [
    {
     "data": {
      "text/plain": [
       "gender  tr_type\n",
       "0.0     1010       2.483983e+04\n",
       "        1100       2.097006e+06\n",
       "        1110       3.930353e+05\n",
       "        1200       5.755518e+05\n",
       "        1210       8.364487e+04\n",
       "                       ...     \n",
       "1.0     7070       1.459845e+08\n",
       "        7071       1.111728e+07\n",
       "        7074       2.245916e+06\n",
       "        7075       4.379536e+05\n",
       "        8100       6.468237e+04\n",
       "Name: amount, Length: 72, dtype: float64"
      ]
     },
     "execution_count": 7,
     "metadata": {},
     "output_type": "execute_result"
    }
   ],
   "source": [
    "max_income = transactions[transactions['amount'] > 0].groupby(['gender', 'tr_type'])['amount'].max()\n",
    "max_income"
   ]
  },
  {
   "cell_type": "code",
   "execution_count": 8,
   "metadata": {
    "ExecuteTime": {
     "end_time": "2020-12-12T12:00:20.015080Z",
     "start_time": "2020-12-12T12:00:19.598842Z"
    }
   },
   "outputs": [
    {
     "data": {
      "text/plain": [
       "gender  tr_type\n",
       "0.0     4051        1122.96\n",
       "1.0     4110        2245.92\n",
       "        2020        2245.92\n",
       "0.0     4210        2245.92\n",
       "        4110        2245.92\n",
       "        2370        2335.75\n",
       "        4100        5041.86\n",
       "1.0     1010       28803.87\n",
       "        8100       64682.37\n",
       "        6000       79280.83\n",
       "Name: amount, dtype: float64"
      ]
     },
     "execution_count": 8,
     "metadata": {},
     "output_type": "execute_result"
    }
   ],
   "source": [
    "max_income.sort_values().groupby('gender').head(5)"
   ]
  },
  {
   "cell_type": "markdown",
   "metadata": {},
   "source": [
    "#### Task 4:\n",
    "1. Выделите из поля tr_datetime относительный день tr_day (первое число до точного времени). (\\*)\n",
    "2. Отфильтруйте строки таким образом, чтобы оставить только те транзакции, у которых в соответствующий относительный день tr_day количество уникальных MCC кодов при транзакциях было больше 75 (можно воспользоваться функцией nunique())\n",
    "3. Сгруппируйте полученный отфильтрованный датафрейм по MCC коду и полу, после чего, пронализировав результат, выберите верные варианты ответов ниже (\\**): \n",
    "    - 1) gender == 0 - женщины, gender == 1 - мужчины\n",
    "    - 2) gender == 1 - женщины, gender == 0 - мужчины\n",
    "    - 3) Абсолютное значение медианы с типом \"Флористика\" (расходов/приходов) у мужчин выше той же медианы у женщин\n",
    "    - 4) Абсолютное значение медианы женских трат (расходов/приходов) на ценные бумаги выше мужских\n",
    "    - 5) Абсолютное значение медианы женских трат (расходов/приходов) в категории \"Бары, коктейль-бары, дискотеки, ночные клубы и таверны — места продажи алкогольных напитков\" ниже мужских\n",
    "    \n",
    "##### Пояснения:\n",
    "(\\*) Для того, чтобы выделить всё, что стоит до первого пробела, можо использовать строковые методы для датафрейма - .str.split(), например. Либо же реализовывать логику выделения подстроки с помощью метода apply. <br>\n",
    "(\\**) Понять, какой класс к какому типу транзакций (мужские/женские) относится можно, если поизучать типичные для мужчин/женщин категории и сравнить средние/медианы расходов и/или приходов в них."
   ]
  },
  {
   "cell_type": "code",
   "execution_count": 9,
   "metadata": {
    "ExecuteTime": {
     "end_time": "2020-12-12T12:01:12.283443Z",
     "start_time": "2020-12-12T12:01:02.543076Z"
    }
   },
   "outputs": [],
   "source": [
    "data = transactions\n",
    "data['day'] = transactions['tr_datetime'].str.split().apply(lambda x: x[0])\n",
    "cc = data.groupby('day').nunique()['mcc_code']"
   ]
  },
  {
   "cell_type": "code",
   "execution_count": 10,
   "metadata": {
    "ExecuteTime": {
     "end_time": "2020-12-12T12:01:41.040023Z",
     "start_time": "2020-12-12T12:01:36.949951Z"
    }
   },
   "outputs": [],
   "source": [
    "results = data.merge(cc, left_on='day', right_index=True).groupby(['gender', 'mcc_code_x']).median()"
   ]
  },
  {
   "cell_type": "code",
   "execution_count": 11,
   "metadata": {
    "ExecuteTime": {
     "end_time": "2020-12-12T12:01:54.562257Z",
     "start_time": "2020-12-12T12:01:54.386849Z"
    }
   },
   "outputs": [
    {
     "data": {
      "text/html": [
       "<div>\n",
       "<style scoped>\n",
       "    .dataframe tbody tr th:only-of-type {\n",
       "        vertical-align: middle;\n",
       "    }\n",
       "\n",
       "    .dataframe tbody tr th {\n",
       "        vertical-align: top;\n",
       "    }\n",
       "\n",
       "    .dataframe thead th {\n",
       "        text-align: right;\n",
       "    }\n",
       "</style>\n",
       "<table border=\"1\" class=\"dataframe\">\n",
       "  <thead>\n",
       "    <tr style=\"text-align: right;\">\n",
       "      <th></th>\n",
       "      <th></th>\n",
       "      <th>customer_id</th>\n",
       "      <th>tr_type</th>\n",
       "      <th>amount</th>\n",
       "      <th>mcc_code_y</th>\n",
       "    </tr>\n",
       "    <tr>\n",
       "      <th>gender</th>\n",
       "      <th>mcc_code_x</th>\n",
       "      <th></th>\n",
       "      <th></th>\n",
       "      <th></th>\n",
       "      <th></th>\n",
       "    </tr>\n",
       "  </thead>\n",
       "  <tbody>\n",
       "    <tr>\n",
       "      <th>0.0</th>\n",
       "      <th>5992</th>\n",
       "      <td>64936619.0</td>\n",
       "      <td>1010.0</td>\n",
       "      <td>-12352.54</td>\n",
       "      <td>79.0</td>\n",
       "    </tr>\n",
       "    <tr>\n",
       "      <th>1.0</th>\n",
       "      <th>5992</th>\n",
       "      <td>28793526.0</td>\n",
       "      <td>1010.0</td>\n",
       "      <td>-19090.28</td>\n",
       "      <td>78.0</td>\n",
       "    </tr>\n",
       "  </tbody>\n",
       "</table>\n",
       "</div>"
      ],
      "text/plain": [
       "                   customer_id  tr_type    amount  mcc_code_y\n",
       "gender mcc_code_x                                            \n",
       "0.0    5992         64936619.0   1010.0 -12352.54        79.0\n",
       "1.0    5992         28793526.0   1010.0 -19090.28        78.0"
      ]
     },
     "execution_count": 11,
     "metadata": {},
     "output_type": "execute_result"
    }
   ],
   "source": [
    "flor_code = int(data[data['mcc_description'] == 'Флористика']['mcc_code'].unique())\n",
    "results.loc[[(0,flor_code), (1,flor_code)]]"
   ]
  },
  {
   "cell_type": "code",
   "execution_count": 12,
   "metadata": {
    "ExecuteTime": {
     "end_time": "2020-12-12T12:02:02.861517Z",
     "start_time": "2020-12-12T12:02:01.146207Z"
    }
   },
   "outputs": [
    {
     "data": {
      "text/html": [
       "<div>\n",
       "<style scoped>\n",
       "    .dataframe tbody tr th:only-of-type {\n",
       "        vertical-align: middle;\n",
       "    }\n",
       "\n",
       "    .dataframe tbody tr th {\n",
       "        vertical-align: top;\n",
       "    }\n",
       "\n",
       "    .dataframe thead th {\n",
       "        text-align: right;\n",
       "    }\n",
       "</style>\n",
       "<table border=\"1\" class=\"dataframe\">\n",
       "  <thead>\n",
       "    <tr style=\"text-align: right;\">\n",
       "      <th></th>\n",
       "      <th></th>\n",
       "      <th>customer_id</th>\n",
       "      <th>tr_type</th>\n",
       "      <th>amount</th>\n",
       "      <th>mcc_code_y</th>\n",
       "    </tr>\n",
       "    <tr>\n",
       "      <th>gender</th>\n",
       "      <th>mcc_code_x</th>\n",
       "      <th></th>\n",
       "      <th></th>\n",
       "      <th></th>\n",
       "      <th></th>\n",
       "    </tr>\n",
       "  </thead>\n",
       "  <tbody>\n",
       "    <tr>\n",
       "      <th>0.0</th>\n",
       "      <th>6211</th>\n",
       "      <td>93741697.0</td>\n",
       "      <td>1200.0</td>\n",
       "      <td>-6737.75</td>\n",
       "      <td>80.0</td>\n",
       "    </tr>\n",
       "    <tr>\n",
       "      <th>1.0</th>\n",
       "      <th>6211</th>\n",
       "      <td>34039951.0</td>\n",
       "      <td>1100.0</td>\n",
       "      <td>-11229.58</td>\n",
       "      <td>79.0</td>\n",
       "    </tr>\n",
       "  </tbody>\n",
       "</table>\n",
       "</div>"
      ],
      "text/plain": [
       "                   customer_id  tr_type    amount  mcc_code_y\n",
       "gender mcc_code_x                                            \n",
       "0.0    6211         93741697.0   1200.0  -6737.75        80.0\n",
       "1.0    6211         34039951.0   1100.0 -11229.58        79.0"
      ]
     },
     "execution_count": 12,
     "metadata": {},
     "output_type": "execute_result"
    }
   ],
   "source": [
    "flor_code = int(data[data['mcc_description'].apply(lambda x : 'бумаги' in x.lower())]['mcc_code'].unique())\n",
    "results.loc[[(0,flor_code), (1,flor_code)]]"
   ]
  },
  {
   "cell_type": "markdown",
   "metadata": {},
   "source": [
    "#### Task 5:\n",
    "1. Разбейте расходы (отрицательные значения сумм) на 5 бакетов amount_bucket равного объёма (с помощью pd.qcut), разбив все траты на категории 'Very High', 'High', 'Middle', 'Low', 'Very Low'. (\\*)\n",
    "2. Оставшиеся неотрицательные траты отнесите к категории 'Income'.\n",
    "(воспользуйтесь функцией .cat.add_categories('Income') для того, чтобы добавить новую категорию 'Income' к категориям 'Very High', 'High', 'Middle', 'Low', 'Very Low', а затем заполните пустые значения новой категорией).\n",
    "3. Из поля tr_datetime выделите час tr_hour, в который произошла транзакция, как первые 2 цифры до \":\". (\\**)\n",
    "3. После этого постройте сводную таблицу, значениями в которой является пол gender, индексы - tr_hour, столбцы - amount_bucket.\n",
    "4. Отрисуйте полученные результаты, передав их в функцию plot_pivot_table, расположенную ниже.\n",
    "5. Выберите верные ответы на вопросы ниже.\n",
    "\n",
    "#### Вопросы:\n",
    "    - 1) Ночные поступления денег (01-05 часов) в более чем 85% случаев являются мужскими.\n",
    "    - 2) Посмотрев на долю мужчин в поступлениях средств (Income), можно сделать вывод, что количество поступлений средств женщинам в целом больше, чем мужчинам.\n",
    "    - 3) Самые низкие траты в 3 часа ночи осуществляются в более 70% случаев женщинами.\n",
    "    - 4) Существуют особые часы в мелких тратах, когда женщины тратят намного больше мужчин (>80%)\n",
    "    - 5) Посмотрев на долю мужчин в максимальных тратах средств (Very High), можно сделать вывод, что количество высоких трат в каждый возможный час мужчин больше, чем у женщин.\n",
    "\n",
    "##### Пояснения:\n",
    "(\\*) Обратите внимание, что в категории Very High Должны оказаться максимальные по модулю отрицательные транзакции. <br>\n",
    "(\\**) Например, для строки \"0 10:23:26\" час будет равен 10, а для строки \"6 07:08:31\"- 07. Можно воспользоваться функциями str.split() или str.find() и \n",
    "функцией .apply(lambda x: x[])"
   ]
  },
  {
   "cell_type": "code",
   "execution_count": 13,
   "metadata": {
    "ExecuteTime": {
     "end_time": "2020-12-12T12:07:52.336740Z",
     "start_time": "2020-12-12T12:07:52.323360Z"
    }
   },
   "outputs": [],
   "source": [
    "def plot_pivot_table(pivot_table):\n",
    "    plt.figure(figsize=(9, 11))\n",
    "    sns.heatmap(pivot_table, cmap=\"YlGnBu\", annot=True, \n",
    "                fmt='.3g', annot_kws={\"size\": 14, \"fontsize\": 14})\n",
    "    plt.xticks(fontsize=15)\n",
    "    plt.yticks(rotation=0, fontsize=15)\n",
    "    plt.xlabel('Bucket', size=18)\n",
    "    plt.ylabel('Hour', fontsize=18)\n",
    "    plt.title('Gender analysis per bucket and hour', fontsize=20)\n",
    "    plt.show()"
   ]
  },
  {
   "cell_type": "code",
   "execution_count": 14,
   "metadata": {
    "ExecuteTime": {
     "end_time": "2020-12-12T12:03:38.646082Z",
     "start_time": "2020-12-12T12:03:37.908579Z"
    }
   },
   "outputs": [],
   "source": [
    "amount_bucket = pd.qcut(data['amount'].apply(lambda x: x if x < 0 else None),\n",
    "                                        5,labels=['Very High', 'High', 'Middle', 'Low', 'Very Low']\n",
    "                                        ).cat.add_categories('Income')\n",
    "amount_bucket = amount_bucket.fillna('Income')"
   ]
  },
  {
   "cell_type": "code",
   "execution_count": 15,
   "metadata": {
    "ExecuteTime": {
     "end_time": "2020-12-12T12:04:59.999968Z",
     "start_time": "2020-12-12T12:04:58.619655Z"
    }
   },
   "outputs": [],
   "source": [
    "hours = data['tr_datetime'].apply(lambda x: x.split()[1].split(':')[0])"
   ]
  },
  {
   "cell_type": "code",
   "execution_count": 16,
   "metadata": {
    "ExecuteTime": {
     "end_time": "2020-12-12T12:05:51.507010Z",
     "start_time": "2020-12-12T12:05:51.485970Z"
    }
   },
   "outputs": [],
   "source": [
    "pd_data = data\n",
    "pd_data['amount_bucket'] = amount_bucket\n",
    "pd_data['hours'] = hours"
   ]
  },
  {
   "cell_type": "code",
   "execution_count": 17,
   "metadata": {
    "ExecuteTime": {
     "end_time": "2020-12-12T12:07:56.247842Z",
     "start_time": "2020-12-12T12:07:53.880531Z"
    },
    "scrolled": true
   },
   "outputs": [
    {
     "data": {
      "image/png": "[encoded data removed]",
      "text/plain": [
       "<Figure size 648x792 with 2 Axes>"
      ]
     },
     "metadata": {
      "needs_background": "light"
     },
     "output_type": "display_data"
    }
   ],
   "source": [
    "piv_table = pd_data.pivot_table('gender', index='hours', columns='amount_bucket')\n",
    "plot_pivot_table(piv_table)"
   ]
  },
  {
   "cell_type": "markdown",
   "metadata": {},
   "source": [
    "Ответ:2"
   ]
  },
  {
   "cell_type": "markdown",
   "metadata": {},
   "source": [
    "#### Task 6:\n",
    "1. Измените тип поля tr_day на int.\n",
    "2. Выберите из transactions все MCC коды, которые встретились в выборке более чем 60000 раз.\n",
    "3. Сгруппируйте отфильтрованный датафрейм по дню и MCC-коду, получая средние значения суммы amount.  \n",
    "4. Далее отрисуйте зависимость средних сумм (может пригодится метод unstack()) по каждому из MCC-кодов по дням.\n",
    "5. Выберите верные ответы на вопросы ниже.\n",
    "\n",
    "#### Вопросы:\n",
    "    - 1) 2 из полученных MCC-кодов связаны с финансовыми институтами\n",
    "    - 2) 2 MCC кода, связанные со снятием наличности имеют в целом разные знаки (в одном случае почти везде - траты, в другом - пополнения)\n",
    "    - 3) Бакалейные магазины обладают максимальными средними тратами среди выбранных MCC-кодов\n",
    "    - 4) Денежные переводы имеют как минимум 3 явных минимума средних\n",
    "    - 5) Категория \"Звонки с использованием телефонов, считывающих магнитную ленту\" имеет визуально очень большую дисперсию. "
   ]
  },
  {
   "cell_type": "code",
   "execution_count": 18,
   "metadata": {
    "ExecuteTime": {
     "end_time": "2020-12-12T12:32:00.981892Z",
     "start_time": "2020-12-12T12:32:00.040817Z"
    },
    "scrolled": true
   },
   "outputs": [
    {
     "name": "stdout",
     "output_type": "stream",
     "text": [
      "[4814, 4829, 5411, 6010, 6011]\n"
     ]
    }
   ],
   "source": [
    "data['day'] = data['day'].astype(int)\n",
    "new_data = data.groupby('mcc_code').count()\n",
    "code = list(new_data[new_data['amount'] >60000].index)\n",
    "av_amount = data[data['mcc_code'].apply(lambda x : x in code)].groupby(['day', 'mcc_code']).mean()['amount']\n",
    "print(code)"
   ]
  },
  {
   "cell_type": "code",
   "execution_count": 19,
   "metadata": {
    "ExecuteTime": {
     "end_time": "2020-12-12T12:29:14.647106Z",
     "start_time": "2020-12-12T12:29:14.463274Z"
    }
   },
   "outputs": [
    {
     "data": {
      "image/png": "[encoded data removed]",
      "text/plain": [
       "<Figure size 432x288 with 1 Axes>"
      ]
     },
     "metadata": {
      "needs_background": "light"
     },
     "output_type": "display_data"
    }
   ],
   "source": [
    "unstacked_av_amount = av_amount.unstack()\n",
    "for c in unstacked_av_amount.columns:\n",
    "    plt.plot(unstacked_av_amount.index ,unstacked_av_amount[c])\n",
    "    plt.legend(unstacked_av_amount.columns)"
   ]
  },
  {
   "cell_type": "code",
   "execution_count": 20,
   "metadata": {
    "ExecuteTime": {
     "end_time": "2020-12-12T12:34:55.102338Z",
     "start_time": "2020-12-12T12:34:55.048483Z"
    }
   },
   "outputs": [
    {
     "data": {
      "text/html": [
       "<div>\n",
       "<style scoped>\n",
       "    .dataframe tbody tr th:only-of-type {\n",
       "        vertical-align: middle;\n",
       "    }\n",
       "\n",
       "    .dataframe tbody tr th {\n",
       "        vertical-align: top;\n",
       "    }\n",
       "\n",
       "    .dataframe thead th {\n",
       "        text-align: right;\n",
       "    }\n",
       "</style>\n",
       "<table border=\"1\" class=\"dataframe\">\n",
       "  <thead>\n",
       "    <tr style=\"text-align: right;\">\n",
       "      <th></th>\n",
       "      <th>customer_id</th>\n",
       "      <th>tr_datetime</th>\n",
       "      <th>mcc_code</th>\n",
       "      <th>tr_type</th>\n",
       "      <th>amount</th>\n",
       "      <th>term_id</th>\n",
       "      <th>gender</th>\n",
       "      <th>mcc_description</th>\n",
       "      <th>tr_description</th>\n",
       "      <th>mcc_code+tr_type</th>\n",
       "      <th>day</th>\n",
       "      <th>amount_bucket</th>\n",
       "      <th>hours</th>\n",
       "    </tr>\n",
       "  </thead>\n",
       "  <tbody>\n",
       "    <tr>\n",
       "      <th>120662</th>\n",
       "      <td>3765322</td>\n",
       "      <td>126 10:16:19</td>\n",
       "      <td>5411</td>\n",
       "      <td>1100</td>\n",
       "      <td>-72453.24</td>\n",
       "      <td>NaN</td>\n",
       "      <td>0.0</td>\n",
       "      <td>Бакалейные магазины, супермаркеты</td>\n",
       "      <td>Покупка. ТУ  Россия</td>\n",
       "      <td>54111100</td>\n",
       "      <td>126</td>\n",
       "      <td>Very High</td>\n",
       "      <td>10</td>\n",
       "    </tr>\n",
       "    <tr>\n",
       "      <th>120663</th>\n",
       "      <td>95047101</td>\n",
       "      <td>288 14:41:16</td>\n",
       "      <td>5411</td>\n",
       "      <td>1100</td>\n",
       "      <td>-45503.38</td>\n",
       "      <td>NaN</td>\n",
       "      <td>1.0</td>\n",
       "      <td>Бакалейные магазины, супермаркеты</td>\n",
       "      <td>Покупка. ТУ  Россия</td>\n",
       "      <td>54111100</td>\n",
       "      <td>288</td>\n",
       "      <td>Very High</td>\n",
       "      <td>14</td>\n",
       "    </tr>\n",
       "    <tr>\n",
       "      <th>120664</th>\n",
       "      <td>95606586</td>\n",
       "      <td>188 00:00:00</td>\n",
       "      <td>5411</td>\n",
       "      <td>1100</td>\n",
       "      <td>-159460.02</td>\n",
       "      <td>NaN</td>\n",
       "      <td>1.0</td>\n",
       "      <td>Бакалейные магазины, супермаркеты</td>\n",
       "      <td>Покупка. ТУ  Россия</td>\n",
       "      <td>54111100</td>\n",
       "      <td>188</td>\n",
       "      <td>Very High</td>\n",
       "      <td>00</td>\n",
       "    </tr>\n",
       "    <tr>\n",
       "      <th>120665</th>\n",
       "      <td>36734991</td>\n",
       "      <td>18 00:00:00</td>\n",
       "      <td>5411</td>\n",
       "      <td>1100</td>\n",
       "      <td>-2536.54</td>\n",
       "      <td>NaN</td>\n",
       "      <td>NaN</td>\n",
       "      <td>Бакалейные магазины, супермаркеты</td>\n",
       "      <td>Покупка. ТУ  Россия</td>\n",
       "      <td>54111100</td>\n",
       "      <td>18</td>\n",
       "      <td>Very Low</td>\n",
       "      <td>00</td>\n",
       "    </tr>\n",
       "    <tr>\n",
       "      <th>120666</th>\n",
       "      <td>36734991</td>\n",
       "      <td>23 00:00:00</td>\n",
       "      <td>5411</td>\n",
       "      <td>1100</td>\n",
       "      <td>-3112.84</td>\n",
       "      <td>NaN</td>\n",
       "      <td>NaN</td>\n",
       "      <td>Бакалейные магазины, супермаркеты</td>\n",
       "      <td>Покупка. ТУ  Россия</td>\n",
       "      <td>54111100</td>\n",
       "      <td>23</td>\n",
       "      <td>Low</td>\n",
       "      <td>00</td>\n",
       "    </tr>\n",
       "    <tr>\n",
       "      <th>...</th>\n",
       "      <td>...</td>\n",
       "      <td>...</td>\n",
       "      <td>...</td>\n",
       "      <td>...</td>\n",
       "      <td>...</td>\n",
       "      <td>...</td>\n",
       "      <td>...</td>\n",
       "      <td>...</td>\n",
       "      <td>...</td>\n",
       "      <td>...</td>\n",
       "      <td>...</td>\n",
       "      <td>...</td>\n",
       "      <td>...</td>\n",
       "    </tr>\n",
       "    <tr>\n",
       "      <th>798733</th>\n",
       "      <td>13659037</td>\n",
       "      <td>158 00:00:00</td>\n",
       "      <td>5411</td>\n",
       "      <td>6100</td>\n",
       "      <td>11104.93</td>\n",
       "      <td>NaN</td>\n",
       "      <td>NaN</td>\n",
       "      <td>Бакалейные магазины, супермаркеты</td>\n",
       "      <td>Возврат  покупки. ТУ Россия</td>\n",
       "      <td>54116100</td>\n",
       "      <td>158</td>\n",
       "      <td>Income</td>\n",
       "      <td>00</td>\n",
       "    </tr>\n",
       "    <tr>\n",
       "      <th>798734</th>\n",
       "      <td>99622409</td>\n",
       "      <td>446 00:00:00</td>\n",
       "      <td>5411</td>\n",
       "      <td>6100</td>\n",
       "      <td>127898.17</td>\n",
       "      <td>10029050</td>\n",
       "      <td>NaN</td>\n",
       "      <td>Бакалейные магазины, супермаркеты</td>\n",
       "      <td>Возврат  покупки. ТУ Россия</td>\n",
       "      <td>54116100</td>\n",
       "      <td>446</td>\n",
       "      <td>Income</td>\n",
       "      <td>00</td>\n",
       "    </tr>\n",
       "    <tr>\n",
       "      <th>798735</th>\n",
       "      <td>34313136</td>\n",
       "      <td>143 00:00:00</td>\n",
       "      <td>5411</td>\n",
       "      <td>6100</td>\n",
       "      <td>9939.52</td>\n",
       "      <td>NaN</td>\n",
       "      <td>0.0</td>\n",
       "      <td>Бакалейные магазины, супермаркеты</td>\n",
       "      <td>Возврат  покупки. ТУ Россия</td>\n",
       "      <td>54116100</td>\n",
       "      <td>143</td>\n",
       "      <td>Income</td>\n",
       "      <td>00</td>\n",
       "    </tr>\n",
       "    <tr>\n",
       "      <th>998295</th>\n",
       "      <td>18654396</td>\n",
       "      <td>440 13:10:22</td>\n",
       "      <td>5411</td>\n",
       "      <td>6210</td>\n",
       "      <td>3897.56</td>\n",
       "      <td>931938</td>\n",
       "      <td>1.0</td>\n",
       "      <td>Бакалейные магазины, супермаркеты</td>\n",
       "      <td>Возврат покупки.POS Зарубеж. ТУ</td>\n",
       "      <td>54116210</td>\n",
       "      <td>440</td>\n",
       "      <td>Income</td>\n",
       "      <td>13</td>\n",
       "    </tr>\n",
       "    <tr>\n",
       "      <th>998296</th>\n",
       "      <td>20381429</td>\n",
       "      <td>389 00:00:00</td>\n",
       "      <td>5411</td>\n",
       "      <td>6210</td>\n",
       "      <td>20843.67</td>\n",
       "      <td>59920092</td>\n",
       "      <td>NaN</td>\n",
       "      <td>Бакалейные магазины, супермаркеты</td>\n",
       "      <td>Возврат покупки.POS Зарубеж. ТУ</td>\n",
       "      <td>54116210</td>\n",
       "      <td>389</td>\n",
       "      <td>Income</td>\n",
       "      <td>00</td>\n",
       "    </tr>\n",
       "  </tbody>\n",
       "</table>\n",
       "<p>144202 rows × 13 columns</p>\n",
       "</div>"
      ],
      "text/plain": [
       "        customer_id   tr_datetime  mcc_code  tr_type     amount   term_id  \\\n",
       "120662      3765322  126 10:16:19      5411     1100  -72453.24       NaN   \n",
       "120663     95047101  288 14:41:16      5411     1100  -45503.38       NaN   \n",
       "120664     95606586  188 00:00:00      5411     1100 -159460.02       NaN   \n",
       "120665     36734991   18 00:00:00      5411     1100   -2536.54       NaN   \n",
       "120666     36734991   23 00:00:00      5411     1100   -3112.84       NaN   \n",
       "...             ...           ...       ...      ...        ...       ...   \n",
       "798733     13659037  158 00:00:00      5411     6100   11104.93       NaN   \n",
       "798734     99622409  446 00:00:00      5411     6100  127898.17  10029050   \n",
       "798735     34313136  143 00:00:00      5411     6100    9939.52       NaN   \n",
       "998295     18654396  440 13:10:22      5411     6210    3897.56    931938   \n",
       "998296     20381429  389 00:00:00      5411     6210   20843.67  59920092   \n",
       "\n",
       "        gender                    mcc_description  \\\n",
       "120662     0.0  Бакалейные магазины, супермаркеты   \n",
       "120663     1.0  Бакалейные магазины, супермаркеты   \n",
       "120664     1.0  Бакалейные магазины, супермаркеты   \n",
       "120665     NaN  Бакалейные магазины, супермаркеты   \n",
       "120666     NaN  Бакалейные магазины, супермаркеты   \n",
       "...        ...                                ...   \n",
       "798733     NaN  Бакалейные магазины, супермаркеты   \n",
       "798734     NaN  Бакалейные магазины, супермаркеты   \n",
       "798735     0.0  Бакалейные магазины, супермаркеты   \n",
       "998295     1.0  Бакалейные магазины, супермаркеты   \n",
       "998296     NaN  Бакалейные магазины, супермаркеты   \n",
       "\n",
       "                         tr_description mcc_code+tr_type  day amount_bucket  \\\n",
       "120662              Покупка. ТУ  Россия         54111100  126     Very High   \n",
       "120663              Покупка. ТУ  Россия         54111100  288     Very High   \n",
       "120664              Покупка. ТУ  Россия         54111100  188     Very High   \n",
       "120665              Покупка. ТУ  Россия         54111100   18      Very Low   \n",
       "120666              Покупка. ТУ  Россия         54111100   23           Low   \n",
       "...                                 ...              ...  ...           ...   \n",
       "798733      Возврат  покупки. ТУ Россия         54116100  158        Income   \n",
       "798734      Возврат  покупки. ТУ Россия         54116100  446        Income   \n",
       "798735      Возврат  покупки. ТУ Россия         54116100  143        Income   \n",
       "998295  Возврат покупки.POS Зарубеж. ТУ         54116210  440        Income   \n",
       "998296  Возврат покупки.POS Зарубеж. ТУ         54116210  389        Income   \n",
       "\n",
       "       hours  \n",
       "120662    10  \n",
       "120663    14  \n",
       "120664    00  \n",
       "120665    00  \n",
       "120666    00  \n",
       "...      ...  \n",
       "798733    00  \n",
       "798734    00  \n",
       "798735    00  \n",
       "998295    13  \n",
       "998296    00  \n",
       "\n",
       "[144202 rows x 13 columns]"
      ]
     },
     "execution_count": 20,
     "metadata": {},
     "output_type": "execute_result"
    }
   ],
   "source": [
    "transactions[transactions['mcc_code'] == 5411]"
   ]
  },
  {
   "cell_type": "markdown",
   "metadata": {},
   "source": [
    "Ответы: 1, 2, 4"
   ]
  }
 ],
 "metadata": {
  "hide_input": false,
  "kernelspec": {
   "display_name": "Python 3",
   "language": "python",
   "name": "python3"
  },
  "language_info": {
   "codemirror_mode": {
    "name": "ipython",
    "version": 3
   },
   "file_extension": ".py",
   "mimetype": "text/x-python",
   "name": "python",
   "nbconvert_exporter": "python",
   "pygments_lexer": "ipython3",
   "version": "3.7.3"
  },
  "toc": {
   "base_numbering": 1,
   "nav_menu": {},
   "number_sections": true,
   "sideBar": true,
   "skip_h1_title": false,
   "title_cell": "Table of Contents",
   "title_sidebar": "Contents",
   "toc_cell": true,
   "toc_position": {},
   "toc_section_display": true,
   "toc_window_display": false
  },
  "varInspector": {
   "cols": {
    "lenName": 16,
    "lenType": 16,
    "lenVar": 40
   },
   "kernels_config": {
    "python": {
     "delete_cmd_postfix": "",
     "delete_cmd_prefix": "del ",
     "library": "var_list.py",
     "varRefreshCmd": "print(var_dic_list())"
    },
    "r": {
     "delete_cmd_postfix": ") ",
     "delete_cmd_prefix": "rm(",
     "library": "var_list.r",
     "varRefreshCmd": "cat(var_dic_list()) "
    }
   },
   "types_to_exclude": [
    "module",
    "function",
    "builtin_function_or_method",
    "instance",
    "_Feature"
   ],
   "window_display": false
  }
 },
 "nbformat": 4,
 "nbformat_minor": 4
}
